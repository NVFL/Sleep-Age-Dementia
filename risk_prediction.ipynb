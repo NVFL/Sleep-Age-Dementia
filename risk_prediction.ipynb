{
 "cells": [
  {
   "cell_type": "code",
   "execution_count": null,
   "metadata": {},
   "outputs": [],
   "source": [
    "import pandas as pd #type: ignore\n",
    "import joblib #type: ignore\n",
    "\n",
    "from code_files.utils import ( #type: ignore\n",
    "    RandomState,\n",
    "    set_seed,\n",
    ")\n",
    "from code_files.save_and_compute import ( #type: ignore\n",
    "    interpret_prediction, \n",
    ")"
   ]
  },
  {
   "cell_type": "code",
   "execution_count": null,
   "metadata": {},
   "outputs": [],
   "source": [
    "random_state = RandomState(42)\n",
    "set_seed(42)"
   ]
  },
  {
   "cell_type": "code",
   "execution_count": null,
   "metadata": {},
   "outputs": [],
   "source": [
    "# Get data\n",
    "\n",
    "SAI_data = pd.read_csv('results.csv').iloc[:,1:] # load your SAI data"
   ]
  },
  {
   "cell_type": "code",
   "execution_count": null,
   "metadata": {},
   "outputs": [],
   "source": [
    "# Load model\n",
    "\n",
    "best_model = joblib.load('risk_predictor.pkl')"
   ]
  },
  {
   "cell_type": "code",
   "execution_count": null,
   "metadata": {},
   "outputs": [],
   "source": [
    "# Get thresholds\n",
    "\n",
    "optimal_thresholds = {'green': 0.3,\n",
    "                      'amber': 0.7}\n",
    "print(optimal_thresholds)"
   ]
  },
  {
   "cell_type": "code",
   "execution_count": null,
   "metadata": {},
   "outputs": [],
   "source": [
    "numeric_features = ['age_group_adjusted_difference','feature_gender_interaction']\n",
    "categorical_features = ['gender_f','gender_m']\n",
    "target_column = ['state']\n",
    "\n",
    "# Apply the preprocessor to the data\n",
    "\n",
    "preprocessor = joblib.load('clf_scaler.pkl')\n",
    "X_test = preprocessor.transform(SAI_data[numeric_features + categorical_features])"
   ]
  },
  {
   "cell_type": "code",
   "execution_count": null,
   "metadata": {},
   "outputs": [],
   "source": [
    "# Get probabilities\n",
    "y_prob = best_model.predict_proba(X_test)[:, 1]"
   ]
  },
  {
   "cell_type": "code",
   "execution_count": null,
   "metadata": {},
   "outputs": [
    {
     "name": "stdout",
     "output_type": "stream",
     "text": [
      "['Red', 'Red', 'Red', 'Red', 'Red', 'Red', 'Red', 'Red', 'Red', 'Red', 'Red', 'Red', 'Red', 'Red', 'Red', 'Red', 'Red', 'Red', 'Red', 'Red', 'Red', 'Red', 'Red', 'Red', 'Red', 'Red', 'Red', 'Red', 'Red', 'Red', 'Red', 'Red', 'Red', 'Red', 'Red', 'Red', 'Red', 'Red', 'Red', 'Red', 'Red', 'Red', 'Red', 'Red', 'Red', 'Red', 'Red', 'Red', 'Red', 'Red', 'Red', 'Red', 'Red', 'Red', 'Red', 'Red', 'Red', 'Red', 'Red', 'Red', 'Amber', 'Amber', 'Amber', 'Amber', 'Amber', 'Amber', 'Amber', 'Red', 'Red', 'Red', 'Red', 'Red', 'Red', 'Red', 'Red', 'Red', 'Red', 'Red', 'Red', 'Amber', 'Red', 'Red', 'Red', 'Red', 'Red', 'Red', 'Red', 'Red', 'Red', 'Red', 'Red', 'Red', 'Red', 'Amber', 'Red', 'Red', 'Red', 'Amber', 'Red', 'Red', 'Red', 'Amber', 'Red', 'Red', 'Red', 'Red', 'Red', 'Red', 'Red', 'Red', 'Red', 'Red', 'Red', 'Red', 'Red', 'Red', 'Red', 'Red', 'Red', 'Red', 'Red', 'Red', 'Red', 'Red', 'Red', 'Red', 'Red', 'Red', 'Amber', 'Amber', 'Amber', 'Amber', 'Amber', 'Amber', 'Amber', 'Amber', 'Red', 'Amber', 'Red', 'Amber', 'Red', 'Red', 'Red', 'Red', 'Red', 'Red', 'Red', 'Red', 'Red', 'Red', 'Red', 'Red', 'Red', 'Red', 'Red', 'Red', 'Red', 'Red', 'Red', 'Red', 'Red', 'Red', 'Amber', 'Amber', 'Red', 'Red', 'Amber', 'Amber', 'Amber', 'Amber', 'Amber', 'Amber', 'Amber', 'Amber', 'Red', 'Red', 'Red', 'Red', 'Red', 'Red', 'Red', 'Red', 'Red', 'Red', 'Red', 'Red', 'Red', 'Red', 'Green', 'Amber', 'Amber', 'Amber', 'Amber', 'Amber', 'Amber', 'Red', 'Red', 'Red', 'Red', 'Red', 'Red', 'Red', 'Red', 'Red', 'Red', 'Red', 'Red', 'Red', 'Red', 'Red', 'Red', 'Red', 'Red', 'Red', 'Red', 'Red', 'Red', 'Red', 'Red', 'Red', 'Red', 'Red', 'Red', 'Red', 'Red', 'Red', 'Red', 'Red', 'Red', 'Red', 'Red', 'Amber', 'Amber', 'Amber', 'Amber', 'Amber', 'Red', 'Red', 'Red', 'Red', 'Red', 'Red', 'Red', 'Red', 'Red', 'Red', 'Red', 'Red', 'Red', 'Red', 'Red', 'Red', 'Red', 'Red', 'Red', 'Red', 'Red', 'Red', 'Red', 'Red', 'Red', 'Red', 'Red', 'Amber', 'Amber', 'Red', 'Red', 'Red', 'Red', 'Red', 'Red', 'Red', 'Red', 'Red', 'Red', 'Red', 'Red', 'Red', 'Red', 'Red', 'Red', 'Red', 'Red', 'Red', 'Red', 'Red', 'Red', 'Red', 'Red', 'Red', 'Red', 'Red', 'Red', 'Red', 'Red', 'Red', 'Red', 'Red', 'Red', 'Red', 'Red', 'Red', 'Red', 'Red', 'Red', 'Red', 'Red', 'Red', 'Red', 'Red', 'Red', 'Red', 'Red', 'Red', 'Red', 'Red', 'Amber', 'Red', 'Amber', 'Amber', 'Amber', 'Amber', 'Amber', 'Red', 'Red', 'Red', 'Red', 'Red', 'Red', 'Red', 'Red', 'Red', 'Red', 'Red', 'Red', 'Amber', 'Amber', 'Amber', 'Amber', 'Amber', 'Amber', 'Amber', 'Red', 'Red', 'Red', 'Red', 'Red', 'Amber', 'Red', 'Red', 'Red', 'Red', 'Red', 'Red', 'Red', 'Red', 'Red', 'Amber', 'Amber', 'Amber', 'Amber', 'Amber', 'Red', 'Red', 'Amber', 'Red', 'Red', 'Red', 'Red', 'Red', 'Red', 'Red', 'Red', 'Red', 'Red', 'Red', 'Red', 'Red', 'Red', 'Red', 'Red', 'Red', 'Red', 'Red', 'Red', 'Amber', 'Amber', 'Red', 'Amber', 'Amber', 'Red', 'Red', 'Amber', 'Red', 'Red', 'Amber', 'Amber', 'Amber', 'Amber', 'Red', 'Red', 'Red', 'Amber', 'Red', 'Red', 'Red', 'Amber', 'Red', 'Red', 'Red', 'Red', 'Red', 'Red', 'Red', 'Red', 'Red', 'Red', 'Red', 'Red', 'Red', 'Red', 'Red', 'Red', 'Red', 'Red', 'Red', 'Red', 'Red', 'Red', 'Red', 'Red', 'Red', 'Red', 'Red', 'Red', 'Red', 'Red', 'Red', 'Red', 'Red', 'Red', 'Red', 'Amber', 'Amber', 'Red', 'Red', 'Red', 'Red', 'Red', 'Red', 'Red', 'Red', 'Red', 'Red', 'Red', 'Red', 'Red', 'Red', 'Red', 'Red', 'Red', 'Red', 'Red', 'Red', 'Red', 'Amber', 'Red', 'Red', 'Red', 'Red']\n",
      "     probability gender    age_bin old_age_bin   id  test_date\n",
      "0       0.881835      f   80.0-inf    80.0-inf    1 2023-10-15\n",
      "1       0.863319      f   80.0-inf    80.0-inf    1 2023-10-25\n",
      "2       0.930363      f   80.0-inf    80.0-inf    1 2024-06-30\n",
      "3       0.926592      f   80.0-inf    80.0-inf    1 2024-07-10\n",
      "4       0.937003      f   80.0-inf    80.0-inf    1 2024-09-20\n",
      "..           ...    ...        ...         ...  ...        ...\n",
      "465     0.698783      f  75.0-80.0   70.0-80.0  9.5 2024-12-17\n",
      "466     0.782496      f  75.0-80.0   70.0-80.0  9.5 2024-12-27\n",
      "467     0.825121      f  75.0-80.0   70.0-80.0  9.5 2025-01-06\n",
      "468     0.812798      f  75.0-80.0   70.0-80.0  9.5 2025-01-16\n",
      "469     0.768292      f  75.0-80.0   70.0-80.0  9.5 2025-01-26\n",
      "\n",
      "[470 rows x 6 columns]\n",
      "    Traffic Lights  Likelihood Gender    Age Bin Old Age Bin   ID sample_date\n",
      "0              Red    0.881835      f   80.0-inf    80.0-inf    1  2023-10-15\n",
      "1              Red    0.863319      f   80.0-inf    80.0-inf    1  2023-10-25\n",
      "2              Red    0.930363      f   80.0-inf    80.0-inf    1  2024-06-30\n",
      "3              Red    0.926592      f   80.0-inf    80.0-inf    1  2024-07-10\n",
      "4              Red    0.937003      f   80.0-inf    80.0-inf    1  2024-09-20\n",
      "..             ...         ...    ...        ...         ...  ...         ...\n",
      "465          Amber    0.698783      f  75.0-80.0   70.0-80.0  9.5  2024-12-17\n",
      "466            Red    0.782496      f  75.0-80.0   70.0-80.0  9.5  2024-12-27\n",
      "467            Red    0.825121      f  75.0-80.0   70.0-80.0  9.5  2025-01-06\n",
      "468            Red    0.812798      f  75.0-80.0   70.0-80.0  9.5  2025-01-16\n",
      "469            Red    0.768292      f  75.0-80.0   70.0-80.0  9.5  2025-01-26\n",
      "\n",
      "[470 rows x 7 columns]\n"
     ]
    }
   ],
   "source": [
    "#Collect results for the fold into a DataFrame\n",
    "\n",
    "results = pd.DataFrame({                                #  must include state and probability; gender, age, id and sample date are optional for further evaluation\n",
    "'id': SAI_data['ids'],\n",
    "'sample_date': SAI_data['dates'], \n",
    "'gender': SAI_data['gender'],\n",
    "'age_bin': SAI_data['age_bin'],\n",
    "'old_age_bin': SAI_data['old_age_bin'],\n",
    "'probability': y_prob.ravel(),\n",
    "})\n",
    "\n",
    "# Get traffic light predictions for unlabelled data\n",
    "\n",
    "tl_predictions = []\n",
    "\n",
    "for prob in y_prob:\n",
    "    if prob <= optimal_thresholds['green']:\n",
    "        tl_predictions.append('Green')  # Confidently negative\n",
    "    elif prob > optimal_thresholds['green'] and prob <= optimal_thresholds['amber']:\n",
    "        tl_predictions.append('Amber')  # Uncertain class\n",
    "    else:\n",
    "        tl_predictions.append('Red')  # Confidently positive\n",
    "\n",
    "print(tl_predictions)\n",
    "tl_predictions_df = pd.DataFrame(tl_predictions)\n",
    "\n",
    "# Get final model output\n",
    "\n",
    "final_output = results[['probability', 'gender', 'age_bin', 'old_age_bin', 'id', 'sample_date']].reset_index(drop=True)\n",
    "print(final_output)\n",
    "\n",
    "# Combine traffic light predictions with final model output\n",
    "\n",
    "stratified_output = pd.concat([tl_predictions_df, final_output], axis=1)\n",
    "stratified_output.columns = ['Traffic Lights', 'Likelihood', 'Gender', 'Age Bin', 'Old Age Bin', 'ID', 'Sample Date']\n",
    "print(stratified_output)\n",
    "stratified_output.to_csv('stratified_output.csv', index=False)\n"
   ]
  },
  {
   "cell_type": "code",
   "execution_count": null,
   "metadata": {},
   "outputs": [],
   "source": [
    "# Load weighted mean risk scores\n",
    "\n",
    "group_weighted_stats = pd.read_csv('weighted_means_dementia.csv').iloc[:, 1:]\n",
    "print(group_weighted_stats)"
   ]
  },
  {
   "cell_type": "code",
   "execution_count": null,
   "metadata": {},
   "outputs": [],
   "source": [
    "# Get adjusted risk scores\n",
    "\n",
    "adjusted_output = stratified_output.merge(group_weighted_stats, on='Age Bin')\n",
    "adjusted_output['age_group_adjusted_prob'] = adjusted_output['Likelihood'] - adjusted_output['group_weighted_mean']\n",
    "print(adjusted_output)"
   ]
  },
  {
   "cell_type": "code",
   "execution_count": null,
   "metadata": {},
   "outputs": [],
   "source": [
    "# Get re-classifications for adjusted risk scores\n",
    "\n",
    "adjusted_output['Interpretation'] = adjusted_output.apply(\n",
    "    lambda row: interpret_prediction(row['Traffic Lights'], row['age_group_adjusted_prob']),\n",
    "    axis=1\n",
    ")"
   ]
  }
 ],
 "metadata": {
  "kernelspec": {
   "display_name": "sleep-age",
   "language": "python",
   "name": "python3"
  },
  "language_info": {
   "codemirror_mode": {
    "name": "ipython",
    "version": 3
   },
   "file_extension": ".py",
   "mimetype": "text/x-python",
   "name": "python",
   "nbconvert_exporter": "python",
   "pygments_lexer": "ipython3",
   "version": "3.13.2"
  },
  "orig_nbformat": 4
 },
 "nbformat": 4,
 "nbformat_minor": 2
}
