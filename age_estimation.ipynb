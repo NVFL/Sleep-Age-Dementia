{
 "cells": [
  {
   "cell_type": "code",
   "execution_count": null,
   "metadata": {},
   "outputs": [],
   "source": [
    "import numpy as np #type: ignore\n",
    "import pandas as pd #type: ignore\n",
    "import joblib #type: ignore\n",
    "\n",
    "from sklearn.preprocessing import StandardScaler #type: ignore\n",
    "from sklearn.preprocessing import OneHotEncoder #type: ignore\n",
    "\n",
    "import xgboost as xgb #type: ignore\n",
    "\n",
    "from sklearn.metrics import mean_absolute_error, mean_squared_error #type: ignore\n",
    "import sklearn.utils as skutils #type: ignore\n",
    "\n",
    "from scripts.data_preprocessing import ( #type: ignore\n",
    "    data_to_arrays, \n",
    "    calculate_statistics,\n",
    ")\n",
    "from scripts.utils import ( #type: ignore\n",
    "    RandomState,\n",
    "    MainArgs,\n",
    "    set_seed,\n",
    ")\n",
    "from scripts.save_and_compute import ( #type: ignore\n",
    "    save_and_return_df,\n",
    "    interval_to_str,\n",
    ")"
   ]
  },
  {
   "cell_type": "code",
   "execution_count": null,
   "metadata": {},
   "outputs": [],
   "source": [
    "random_state = RandomState(42)\n",
    "set_seed(42)"
   ]
  },
  {
   "cell_type": "code",
   "execution_count": null,
   "metadata": {},
   "outputs": [],
   "source": [
    "args = MainArgs(\n",
    ")"
   ]
  },
  {
   "cell_type": "code",
   "execution_count": null,
   "metadata": {},
   "outputs": [],
   "source": [
    "# Get data\n",
    "\n",
    "test_data = pd.read_csv('path/to/your/test_data.csv') # load your pre-processed test data"
   ]
  },
  {
   "cell_type": "code",
   "execution_count": null,
   "metadata": {},
   "outputs": [],
   "source": [
    "# Scale data\n",
    "\n",
    "scaler = StandardScaler()\n",
    "test_data[args.x_cols] = scaler.fit_transform(test_data[args.x_cols]) # a new scaler should be fit to each new dataset"
   ]
  },
  {
   "cell_type": "code",
   "execution_count": null,
   "metadata": {},
   "outputs": [],
   "source": [
    "# Get data as 3D arrays\n",
    "\n",
    "test_data, test_dates, test_ids, test_gender, test_age, test_raw_age = data_to_arrays(args, test_data)"
   ]
  },
  {
   "cell_type": "code",
   "execution_count": null,
   "metadata": {},
   "outputs": [],
   "source": [
    "# Get statistics of each feature across n_timesteps as 2D arrays \n",
    "\n",
    "test_data = calculate_statistics(test_data)\n",
    "print(test_data.shape)"
   ]
  },
  {
   "cell_type": "code",
   "execution_count": null,
   "metadata": {},
   "outputs": [],
   "source": [
    "# Get gender as features\n",
    " \n",
    "encoder = OneHotEncoder(sparse_output=False, handle_unknown='ignore')\n",
    "test_gender_oh = encoder.fit_transform(test_gender.reshape(-1,1)) # must be in the form 'f', 'm', or 'F', 'M', or 'female', 'male', or 'Female', 'Male'\n",
    "test_data = np.concatenate([test_data, test_gender_oh], axis=1)"
   ]
  },
  {
   "cell_type": "code",
   "execution_count": null,
   "metadata": {},
   "outputs": [],
   "source": [
    "# Scale output\n",
    "\n",
    "scaler = joblib.load('reg_scaler.pkl')\n",
    "test_raw_age = scaler.fit_transform(test_raw_age.reshape(-1, 1)).flatten()"
   ]
  },
  {
   "cell_type": "code",
   "execution_count": null,
   "metadata": {},
   "outputs": [],
   "source": [
    "# Load model\n",
    "\n",
    "best_model = xgb.XGBRegressor()\n",
    "best_model.load_model('age_estimator.json')"
   ]
  },
  {
   "cell_type": "code",
   "execution_count": null,
   "metadata": {},
   "outputs": [],
   "source": [
    "# Predict and evaluate the model\n",
    "\n",
    "predictions = best_model.predict(test_data)\n",
    "predictions = scaler.inverse_transform(predictions.reshape(-1, 1)).flatten()\n",
    "\n",
    "# Calculate Mean Absolute Error (MAE)\n",
    "\n",
    "mae = mean_absolute_error(test_raw_age, predictions)\n",
    "\n",
    "# Calculate Mean Squared Error (MSE)\n",
    "\n",
    "mse = mean_squared_error(test_raw_age, predictions)\n",
    "\n",
    "# Get sample weights and calculate Balanced MAE\n",
    "\n",
    "sample_weight = skutils.class_weight.compute_sample_weight('balanced', test_age)\n",
    "\n",
    "bmae = mean_absolute_error(test_raw_age, predictions, sample_weight=sample_weight)\n",
    "\n",
    "print(f'Results: MAE: {mae:.4f}, Balanced MAE: {bmae:.4f}, MSE: {mse:.4f}')\n"
   ]
  },
  {
   "cell_type": "code",
   "execution_count": null,
   "metadata": {},
   "outputs": [],
   "source": [
    "# Load weighted mean errors\n",
    "\n",
    "group_weighted_stats = pd.read_csv('weighted_means_age.csv').iloc[:, 1:]\n",
    "print(group_weighted_stats)"
   ]
  },
  {
   "cell_type": "code",
   "execution_count": null,
   "metadata": {},
   "outputs": [],
   "source": [
    "# Compute and save SAI\n",
    "\n",
    "results = pd.DataFrame({\n",
    "    'true_age': test_raw_age,\n",
    "    'pred_age': predictions, \n",
    "    'age_bin': test_age,\n",
    "    'gender': test_gender,\n",
    "    'ids': test_ids,\n",
    "    'dates': test_dates[:, 0],\n",
    "})\n",
    "results_df = save_and_return_df(data=results, filename='results.csv')\n",
    "\n",
    "old_bins = [50, 60, 70, 80, np.inf]\n",
    "bins = [-np.inf, 50, 55, 60, 65, 70, 75, 80, np.inf]\n",
    "\n",
    "results_df = results_df.merge(group_weighted_stats, on='age_bin')\n",
    "results_df['age_group_adjusted_pred_age'] = results_df['pred_age'] - results_df['group_weighted_mean']\n",
    "results_df['age_group_adjusted_difference'] = results_df['age_group_adjusted_pred_age'] - results_df['true_age']\n",
    "results_df['old_age_bin'] = pd.cut(results_df['true_age'], bins=np.sort(old_bins), right=False, include_lowest=False, ordered=True)\n",
    "results_df['old_age_bin'] = results_df['old_age_bin'].apply(interval_to_str)\n",
    "results_df.to_csv('results.csv')\n",
    "print(results_df)"
   ]
  }
 ],
 "metadata": {
  "kernelspec": {
   "display_name": "sleep-age",
   "language": "python",
   "name": "python3"
  },
  "language_info": {
   "codemirror_mode": {
    "name": "ipython",
    "version": 3
   },
   "file_extension": ".py",
   "mimetype": "text/x-python",
   "name": "python",
   "nbconvert_exporter": "python",
   "pygments_lexer": "ipython3",
   "version": "3.13.2"
  },
  "orig_nbformat": 4
 },
 "nbformat": 4,
 "nbformat_minor": 2
}
